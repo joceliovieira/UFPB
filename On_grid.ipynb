{
 "metadata": {
  "language_info": {
   "codemirror_mode": {
    "name": "ipython",
    "version": 3
   },
   "file_extension": ".py",
   "mimetype": "text/x-python",
   "name": "python",
   "nbconvert_exporter": "python",
   "pygments_lexer": "ipython3",
   "version": 3
  },
  "orig_nbformat": 2,
  "kernelspec": {
   "name": "python_defaultSpec_1597064101701",
   "display_name": "Python 3.7.6 64-bit"
  }
 },
 "nbformat": 4,
 "nbformat_minor": 2,
 "cells": [
  {
   "cell_type": "markdown",
   "metadata": {},
   "source": [
    "# Dimensionamento: Sistema Solar Fotovoltaico On-grid\n",
    "### Dados\n",
    "* Sistema residencial, com consumo mensal médio de 1660 kWh.\n",
    "* Cidade de João Pessoa\n",
    "\n",
    "Latitude: -7.11532 <br>\n",
    "Longitude: -34.861 \n",
    "\n",
    "– 7° 6′ 55″ Sul <br>\n",
    "34° 51′ 40″ Oeste\n",
    "\n",
    "### Levantando os dados de irradiação nesta localização - Cresesb\n",
    "Fonte [http://www.cresesb.cepel.br/index.php#localidade_45303]\n",
    "$$E_S = 5530 Wh/m^2 . dia$$\n",
    "$$ H_S = \\frac{5,53 kWh/m^2 . dia}{1kW/m^2} = 5,53h/dia $$"
   ]
  },
  {
   "cell_type": "markdown",
   "metadata": {},
   "source": [
    "## Determinando o consumo de energia médio mensal\n",
    "$$ E_{consumida} = 1660 kWh $$\n",
    "\n",
    "Sendo a tarifa para a classe residencial, com consumo acima de 220kWh igual a R$ 0,55042.\n",
    "\n",
    "Fatura média $\\approx$ R$ 913.70\n",
    "\n",
    "Consumo médio diário: \n",
    "$$ C_{diario} = \\frac{1660}{30} =  55,30 kWh$$"
   ]
  },
  {
   "cell_type": "markdown",
   "metadata": {},
   "source": [
    "### Levantando os dados e afins do módulo fotovoltaico\n",
    "\n",
    "Considerando o mesmo módulo utilizado no exemplo, pois as informações já estavam disponíveis e isto facilita o desenvolvimento do trabalho.\n",
    "\n",
    "**Modelo: Canadian CSI CS6U-330P com 330Wp.**\n",
    "\n",
    "Sabendo que $E_S = 5530 Wh/m^2 . dia$, podemos determinar a energia produzida em um dia pelo módulo fotovoltaico.\n",
    "$$ E_{prod} = E_S * A_M * \\eta_M $$\n",
    "Portanto: \n",
    "$$ E_{prod} = 5530 * (1,56 * 0,992) * 0,1697 $$\n",
    "$$ E_{prod} = 1824,63 Wh $$\n",
    "\n",
    "Considerando a presença de 20% de perdas, devido a fatores com sujeira, sombreamento e afins, temos uma redução na energia produzida.\n",
    "\n",
    "$$ E_{prod} = 1824,63 * 0,8 = 1459.70 Wh$$\n",
    "\n",
    "Assim, podemos determinar a quantidade de módulos a ser utilizado no sistema.\n",
    "\n",
    "Sendo $E_{Sist} =$ **consumo médio diário = 55,30 kWh**\n",
    "\n",
    "$$ N_{mod} = \\frac{E_s}{E_M} = \\frac{55330}{1824,63} = 30,32 $$\n",
    "\n",
    "Este valor será arredondado para  cima, uma vez que o sistema é off-grid.\n",
    "$$ N_{mod} = 31 $$\n",
    "\n",
    "Potência total, considerando módulo de 330Wp:\n",
    "$$ P_{tot} = 31 * 330 = 10.23 kW $$"
   ]
  },
  {
   "cell_type": "markdown",
   "metadata": {},
   "source": [
    "### Dimensionando o inversor\n",
    "Sabendo que $ 0,7*P_{pv} \\leq P_{inv} \\leq 1,2 * P_{pv} $\n",
    "$$ 7.161 kW \\leq P_{inv} \\leq 12.276 kW $$\n",
    "\n",
    "**Inversor ES GT-10Kw - Marca EcoSolys** <br>\n",
    "Potência de 10kW\n",
    "\n",
    "| Produto | Valor Unit. | Quantidade | Valor Total |\n",
    "\n",
    "\n",
    "| Campo | Valor  |\n",
    "| :---        |         ---:|\n",
    "|Modelo|10KW|\n",
    "|Tensão CC máxima|1000V|\n",
    "|Faixa de Operação MPPT nominal|160-950V|\n",
    "|Faixa de Operação MPPT máxima|470-800V|\n",
    "|Tensão CC mínima Operação | 200V |\n",
    "|Tensão CC mínima Inicialização | 160 V |\n",
    "|Corrente CC máxima| 11A|\n",
    "\n"
   ]
  },
  {
   "cell_type": "markdown",
   "metadata": {},
   "source": [
    "### Cálculos para o inversor\n",
    "Calculando a tensão de circuito aberto do string:\n",
    "\n",
    "Será considerado um sistema com 2 strings de 10 módulos, e 1 string e 11 módulos. O $V_{ocstring}$ será estimado para a string de maior número de módulos.\n",
    "\n",
    "$$ V_{ocstring} = N_P * V_{oc} $$\n",
    "$$ V_{ocstring} = 11 * 45,6 = 501.6 V $$\n",
    "\n",
    "Fator de segurança de 10%:\n",
    "$$ V_{ocstring} * 1.1 = 551.76 V $$\n",
    "\n",
    "Sendo $V_{in max} = 1000 Vcc$, então os arranjo de **11 e 10** módulos é possível.\n",
    "\n",
    "Sabendo que Vm = 37.2 V, temos:\n",
    "$$ V_{mpp string} = 11 * 37.2  = 409.20 V $$\n",
    "\n",
    "Sendo a faixa de tensão do MPP para o inversor selecionado:\n",
    "$$ 160 V_{cc} \\leq V_{mpp} \\leq 950 V_{cc} $$\n",
    "Então os arranjos com 11 e 10 módulos são possíveis."
   ]
  },
  {
   "cell_type": "markdown",
   "metadata": {},
   "source": [
    "### Determinando o custo do sistema (módulos + inversor)\n",
    "Há de se determinar, ainda, o sistema de armazenamento de energia.\n",
    "\n",
    "| Produto | Valor Unit. | Quantidade | Valor Total |\n",
    "| :---         |     :---:      |      :---:      |         ---:|\n",
    "|Painel FV|R\\$ 735,62$|8|R\\$ 22804,22|\n",
    "|Inversor|R\\$ 8000,00|1|R\\$ 8000,00|\n",
    "|Sistema total| | |R\\$ 30804,22 |\n"
   ]
  },
  {
   "cell_type": "markdown",
   "metadata": {},
   "source": [
    "### Análise financeira\n",
    "\n",
    "Considerando a Fatura média ≈ R\\$ 913.70, temos o custo anual de:<br>\n",
    " $$C_{anual} = 12 * 913.70 = R\\$ 10964.40 $$\n",
    "\n",
    " Desta forma, o tempo de retorno será:\n",
    " $$ N_{anos} = \\frac{C_{Sistema}}{C_{anual}} = \\frac{30804.22}{10964.40} = 2.81$$\n",
    "\n",
    " Desta forma, espera-se que o retorno sobre o investimento ocorra em aproximadamente 2 anos e 9 meses. <br>\n",
    " Levando em consideração que um sistema desse porte pode ter vida útil de mais de 20 anos, então pode-se considerar o investimento viável."
   ]
  }
 ]
}