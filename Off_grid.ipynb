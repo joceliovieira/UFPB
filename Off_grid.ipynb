{
 "metadata": {
  "language_info": {
   "codemirror_mode": {
    "name": "ipython",
    "version": 3
   },
   "file_extension": ".py",
   "mimetype": "text/x-python",
   "name": "python",
   "nbconvert_exporter": "python",
   "pygments_lexer": "ipython3",
   "version": 3
  },
  "orig_nbformat": 2,
  "kernelspec": {
   "name": "python_defaultSpec_1597063342900",
   "display_name": "Python 3.7.6 64-bit"
  }
 },
 "nbformat": 4,
 "nbformat_minor": 2,
 "cells": [
  {
   "cell_type": "markdown",
   "metadata": {},
   "source": [
    "# Dimensionamento - Sistema Solar Fotovoltaico Off-grid\n",
    "### Considerações\n",
    " \n",
    "* 1/4 do consumo\n",
    "* 2 dias de autonomia\n",
    "* Método sem MPPT - corrente máxima"
   ]
  },
  {
   "cell_type": "markdown",
   "metadata": {},
   "source": [
    "### Dados\n",
    "* Sistema residencial, com consumo mensal médio de 1660 kWh.\n",
    "* Cidade de João Pessoa\n",
    "\n",
    "Latitude: -7.11532 <br>\n",
    "Longitude: -34.861 \n",
    "\n",
    "– 7° 6′ 55″ Sul <br>\n",
    "34° 51′ 40″ Oeste\n",
    "\n",
    "### Levantando os dados de irradiação nesta localização - Cresesb\n",
    "Fonte [http://www.cresesb.cepel.br/index.php#localidade_45303]\n",
    "$$$E_S = 5530 Wh/m^2 . dia$$\n",
    "$$ H_S = \\frac{5,53 kWh/m^2 . dia}{1kW/m^2} = 5,53h/dia $$"
   ]
  },
  {
   "cell_type": "markdown",
   "metadata": {},
   "source": [
    "### Determinando o consumo de energia médio mensal\n",
    "$$ E_{consumida} = 1660 kWh $$\n",
    "\n",
    "Sendo a tarifa para a classe residencial, com consumo acima de 220kWh igual a R$ 0,55042.\n",
    "\n",
    "Fatura média $\\approx$ R$ 913.70\n",
    "\n",
    "Consumo médio diário: \n",
    "$$ \\frac{1660}{30} =  55,33 kWh$$\n",
    "\n",
    "#### Sistema off-grid\n",
    "Considerando 1/4 do consumo, temos:\n",
    "$$ E_{c} = 1660/4 = 415 kWh$$\n",
    "Consumo médio diário: \n",
    "$$ C_{diario} = \\frac{415}{30} =  13,83 kWh$$\n",
    " \n",
    "\n"
   ]
  },
  {
   "cell_type": "markdown",
   "metadata": {},
   "source": [
    "### Levantando os dados e afins do módulo fotovoltaico\n",
    "Considerando o mesmo módulo utilizado no exemplo - Canadian com 330kWp.\n",
    "\n",
    "Sabendo que $E_S = 5530 Wh/m^2 . dia$, podemos determinar a energia produzida em um dia pelo módulo fotovoltaico.\n",
    "$$ E_{prod} = E_S * A_M * \\eta_M $$\n",
    "Portanto: \n",
    "$$ E_{prod} = 5530 * (1,56 * 0,992) * 0,1697 $$\n",
    "$$ E_{prod} = 1824,63 Wh $$\n",
    "\n",
    "Considerando a presença de 20% de perdas, devido a fatores com sujeira, sombreamento e afins, temos uma redução na energia produzida.\n",
    "\n",
    "$$ E_{prod} = 1824,63 * 0,8 = 1459.70 Wh$$\n",
    "\n",
    "Assim, podemos determinar a quantidade de módulos a ser utilizado no sistema.\n",
    "\n",
    "$$ N_{mod} = \\frac{E_s}{E_M} = \\frac{13830}{1824,63} = 7.58 $$\n",
    "Este valor será arredondado para  cima, uma vez que o sistema é off-grid.\n",
    "$$ N_{mod} = 8 $$\n",
    "\n",
    "Potência total, considerando módulo de 330Wp:\n",
    "$$ P_{tot} = 8 * 330 = 2640 W $$"
   ]
  },
  {
   "cell_type": "markdown",
   "metadata": {},
   "source": [
    "### Dimensionando o inversor\n",
    "Sabendo que $ 0,7*P_{pv} \\leq P_{inv} \\leq 1,2 * P_{pv} $\n",
    "$$ 1848 W \\leq P_{inv} \\leq 3168 W $$\n",
    "\n",
    "Utilizando o mesmo inversor do exemplo (slide), por ter as informações disponíveis, facilitando o desenvolvimento do trabalho.\n",
    "\n",
    "Inversor Grid-tie Fronius Primo 3.0-1 <br>\n",
    "Características da Entrada:\n",
    "* Voltagem máxima de entrada: 1000Vcc\n",
    "* Faixa de Voltagem do MPP: (200Vcc a 800Vcc) \n",
    "* Voltagem mínima de entrada: 80Vcc \n",
    "* Voltagem para inicialização: 80Vcc \n",
    "* Corrente máxima de entrada: 18A / 18A\n"
   ]
  },
  {
   "cell_type": "markdown",
   "metadata": {},
   "source": [
    "### Cálculos para o inversor\n",
    "Calculando a tensão de circuito aberto do string:\n",
    "$$ V_{ocstring} = N_P * V_{oc} $$\n",
    "$$ V_{ocstring} = 8 * 45,6 = 364,8 V $$\n",
    "Fator de segurança de 15%:\n",
    "$$ V_{ocstring} * 1.1 = 401,28 V $$\n",
    "\n",
    "Sendo $V_{in max} = 1000Vcc$, então o arranjo de 8 módulos é possível.\n",
    "\n",
    "\n",
    "Sabendo que $ Vm = 37,2 V $, temos:\n",
    "$$ V_{mpp string} = 8 * 37,2 = 297,6 V $$\n",
    "\n",
    "Sendo a faixa de tensão do MPP para o inversor selecionado:\n",
    "$$ 200 V_{cc} \\leq V_{mpp} \\leq 800 V_{cc} $$\n",
    "Então o arranjo com 8 módulos é possível."
   ]
  },
  {
   "cell_type": "markdown",
   "metadata": {},
   "source": [
    "### Dimensionando o sistema de armazenamento\n",
    "#### Banco de baterias\n",
    "\n",
    "Bateria escolhida:  Heliar Freedom DF4100\n",
    "\n",
    "Uma vez que o sistema não é de tão elevado porte, será considerada uma tensão de 24V para o banco de baterias, enquanto a bateria selecionada apresenta 12V.\n",
    "\n",
    "Calculando a potência máxima para este caso, com 20% de perdas:\n",
    "$$P_{max} = V_{banco} * I_{sc} * \\eta_{perdas} = 24 * 9,45 * 0.8$$\n",
    "$$P_{max}  = 226,8 * 0.8 = 181.44 $$\n",
    "\n",
    "Assim, a energia produzida em um dia será de:\n",
    "$$E_P = 181.44 * 5.53 \\approx 1kW $$\n",
    "***\n",
    "Determinando o número de baterias em série.\n",
    "$$ N_{série} = \\frac{24}{12} = 2 $$\n",
    "***\n",
    "Determinando a capacidade necessária ao banco de baterias.\n",
    "$$ C_{banco} = \\frac{E_A}{V_{banco}*P_D} $$\n",
    "\n",
    "Onde $E_A = E_C * N_{dias}$, onde $E_C = 13,83 kWh$ e $N_{dias} = 2$\n",
    "Portanto: $E_A = 13830 * 2 = 27.66 kWh$\n",
    "\n",
    "Assim, temos que\n",
    "$$ C_{banco} = \\frac{27660}{24*0.2} = 5762,5Ah $$\n",
    "\n",
    "Portanto, podemos definir o número de conjuntos em paralelo.\n",
    "$$ N_{paralelo} = \\frac{5762,5}{240} = 24,01 \\approx 24 $$\n",
    "\n",
    "Assim, será necessário $24*2 = 48$ baterias.\n",
    "***\n",
    "Pode-se determinar o número de paineis necessários\n",
    "$$ N_{paineis} = \\frac{E_C}{E_P} = \\frac{13830}{1003.36} = 13.78$$\n",
    "Desta forma, pode-se admitir o número de 14 paineis.\n"
   ]
  },
  {
   "cell_type": "markdown",
   "metadata": {},
   "source": [
    "#### Determinando o arranjo dos painéis.\n",
    "\n",
    "Sabemos que $V_{banco} = 24V$ e $V_{mpp}{painel} = 37.2$.\n",
    "\n",
    "Sendo $V_{mpp}{painel} > V_{banco}$, não há necessidade de realizar um arranjo em série.\n",
    "Portanto, os 14 painéis serão agrupados em paralelo.\n",
    "\n",
    "Determinando a corrente máxima do arranjo:\n",
    "$$ I_{tot} = N_P * I_{SC} = 14 * 9.45 = 132.3 $$\n",
    "Considerando 30% de segurança.\n",
    "$$ I_{tot} = 132.3 * 1.3 \\approx 172 A$$ \n",
    "\n",
    "Desta forma, será escolhido um controlador de carga com corrente máxima de 200A, e tensão de 24V.\n",
    "\n",
    "### Escolha do controlador de carga\n",
    "Modelo MarsRock 200a24v\n",
    "Corrente de 200A e tensão de 24V.\n",
    "Valor: R$ 2218,00"
   ]
  },
  {
   "cell_type": "markdown",
   "metadata": {},
   "source": [
    "### Determinando o custo do sistema (módulos + inversor)\n",
    "Há de se determinar, ainda, o sistema de armazenamento de energia.\n",
    "\n",
    "| | | | |\n",
    "|:---|:---:|:---:|---:|\n",
    "|Produto|Valor unit.|Quantidade|Valor Total|\n",
    "|Painel FV|R$ 735,62|8|R$ 5884,96|\n",
    "|Inversor|R$ 5902,50|1|R$ 5902,50|\n",
    "|Bateria|R$ 1399,00 |48|R$ 67152,00 |\n",
    "|Controlador de carga|R$ 2218,00|1|R$ 2218,00|\n",
    "|Sistema total| | |R$ 78939.68 |\n",
    "\n",
    "\n",
    "| Produto | Valor Unit. | Quantidade | Valor Total |\n",
    "| :---         |     :---:      |      :---:      |         ---:|\n",
    "|Painel FV|R$ 735,62|8|R$ 5884,96|\n",
    "|Inversor|R$ 5902,50|1|R$ 5902,50|\n",
    "|Bateria|R$ 1399,00 |48|R$ 67152,00 |\n",
    "|Controlador de carga|R$ 2218,00|1|R$ 2218,00|\n",
    "|Sistema total| | |R$ 78939.68 |"
   ]
  },
  {
   "cell_type": "markdown",
   "metadata": {},
   "source": [
    "### Análise financeira\n",
    "\n",
    "Considerando a Fatura média para 1/4 do consumo ≈ $\\frac{R\\$ 913.70}{4} = R\\$228.43$, temos o custo financeiro anual com energia elétricaa de:<br>\n",
    " $$C_{anual} = 12 * 228.43 = R\\$ 2741.16 $$\n",
    "\n",
    " Desta forma, o tempo de retorno será:\n",
    " $$ N_{anos} = \\frac{C_{Sistema}}{C_{anual}} = \\frac{78939.68}{2741.16} \\approx 29 anos $$\n",
    "\n",
    "Desta forma, espera-se que o retorno sobre o investimento ocorra em aproximadamente 29 anos. <br>\n",
    "Levando em consideração uma vida útil do sistema em torno de 30 anos, em uma análise otimista, então pode-se dizer que o sistema não é tão viável, uma vez que o seu tempo de amortização equivale-se em nível de magnitude à vida útil do mesmo."
   ]
  }
 ]
}